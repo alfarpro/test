{
 "cells": [
  {
   "cell_type": "code",
   "execution_count": 7,
   "metadata": {},
   "outputs": [
    {
     "name": "stdout",
     "output_type": "stream",
     "text": [
      "True\n"
     ]
    }
   ],
   "source": [
    "def is_simpe_number(x):\n",
    "    \"\"\" Определяе, является ли число простым\n",
    "    x - целое положительное число\n",
    "    Если простое, то возращает True,\n",
    "    а иначе - False\n",
    "    \"\"\"\n",
    "    divisor = 2\n",
    "    while divisor < x:\n",
    "        if x%divisor == 0:\n",
    "            return False\n",
    "        divisor +=1\n",
    "    return True\n",
    "print(is_simpe_number(7))"
   ]
  },
  {
   "cell_type": "code",
   "execution_count": 21,
   "metadata": {},
   "outputs": [
    {
     "name": "stdout",
     "output_type": "stream",
     "text": [
      "2\n"
     ]
    }
   ],
   "source": [
    "def factorize_number(x):\n",
    "    \"\"\" Раскладывает число на множители.\n",
    "        Печатает их на экран.\n",
    "        x - целое положительно число.\n",
    "    \"\"\"\n",
    "    divisor = 2\n",
    "    while x > 1:\n",
    "        if x%divisor == 0:\n",
    "            print(divisor)\n",
    "            x //=divisor\n",
    "        else:\n",
    "            divisor +=1\n",
    "factorize_number(999)\n"
   ]
  }
 ],
 "metadata": {
  "kernelspec": {
   "display_name": "Python 3",
   "language": "python",
   "name": "python3"
  },
  "language_info": {
   "codemirror_mode": {
    "name": "ipython",
    "version": 3
   },
   "file_extension": ".py",
   "mimetype": "text/x-python",
   "name": "python",
   "nbconvert_exporter": "python",
   "pygments_lexer": "ipython3",
   "version": "3.11.5"
  },
  "orig_nbformat": 4
 },
 "nbformat": 4,
 "nbformat_minor": 2
}
