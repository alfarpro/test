{
 "cells": [
  {
   "cell_type": "code",
   "execution_count": 7,
   "metadata": {},
   "outputs": [
    {
     "name": "stdout",
     "output_type": "stream",
     "text": [
      "True\n"
     ]
    }
   ],
   "source": [
    "def is_simpe_number(x):\n",
    "    \"\"\" Определяе, является ли число простым\n",
    "    x - целое положительное число\n",
    "    Если простое, то возращает True,\n",
    "    а иначе - False\n",
    "    \"\"\"\n",
    "    divisor = 2\n",
    "    while divisor < x:\n",
    "        if x%divisor == 0:\n",
    "            return False\n",
    "        divisor +=1\n",
    "    return True\n",
    "print(is_simpe_number(7))"
   ]
  },
  {
   "cell_type": "code",
   "execution_count": 23,
   "metadata": {},
   "outputs": [
    {
     "name": "stdout",
     "output_type": "stream",
     "text": [
      "3\n",
      "3\n",
      "3\n",
      "37\n"
     ]
    }
   ],
   "source": [
    "def factorize_number(x):\n",
    "    \"\"\" Раскладывает число на множители.\n",
    "        Печатает их на экран.\n",
    "        x - целое положительно число.\n",
    "    \"\"\"\n",
    "    divisor = 2\n",
    "    while x > 1:\n",
    "        if x%divisor == 0:\n",
    "            print(divisor)\n",
    "            x //=divisor\n",
    "        else:\n",
    "            divisor +=1\n",
    "factorize_number(999)\n"
   ]
  },
  {
   "cell_type": "code",
   "execution_count": 1,
   "metadata": {},
   "outputs": [
    {
     "name": "stdout",
     "output_type": "stream",
     "text": [
      "[1, 4, 9, 16, 25]\n"
     ]
    }
   ],
   "source": [
    "A = [1, 2, 3, 4, 5]\n",
    "for k in range(5):\n",
    "    A[k]=A[k]*A[k]\n",
    "print(A)\n"
   ]
  },
  {
   "cell_type": "code",
   "execution_count": 6,
   "metadata": {},
   "outputs": [
    {
     "name": "stdout",
     "output_type": "stream",
     "text": [
      "[1, 2, 3, 4, 5]\n"
     ]
    }
   ],
   "source": [
    "N = int(input())\n",
    "A = [0] * N\n",
    "B = [0] * N\n",
    "for k in range(N):\n",
    "    A[k] = int(input())\n",
    "for k in range(N):\n",
    "    B[k] = A[k]\n",
    "print(B)"
   ]
  },
  {
   "cell_type": "code",
   "execution_count": 49,
   "metadata": {},
   "outputs": [
    {
     "name": "stdout",
     "output_type": "stream",
     "text": [
      "4\n",
      "6\n",
      "8\n"
     ]
    }
   ],
   "source": [
    "def array_search(A:list, N:int, x:int):\n",
    "    \"\"\" Осуществляем поиск числа x в массиве \n",
    "        от 0 до N-1 индекса включительно.\n",
    "        Возращает индекс элемента x в массиве A.\n",
    "        Или -1, если такого нет.\n",
    "        Если в массиве несколько одинковых элементов,\n",
    "        равных x, то вернуть индекс первого по счёту.\n",
    "    \"\"\"\n",
    "    for k in range(N):\n",
    "        if A[k] == x:\n",
    "            return k\n",
    "    return -1\n",
    "\n",
    "def test_array_search():\n",
    "    A1 = [1, 2, 3, 4, 5]\n",
    "    m = array_search(A1, 5, 8)\n",
    "    if m == -1:\n",
    "        print(\"#test1 - ok\")\n",
    "    else:\n",
    "        print(\"#test1 - fail\")\n",
    "    A2 = [-1, -2, -3, -4, -5]\n",
    "    m = array_search(A2, 5, -3)\n",
    "    if m == -1:\n",
    "        print(\"#test2 - ok\")\n",
    "    else:\n",
    "        print(\"#test2 - fail\")\n",
    "    A3 = [10, 20, 30, 10, 10]\n",
    "    m = array_search(A3, 5, 10)\n",
    "    if m == -1:\n",
    "        print(\"#test3 - ok\")\n",
    "    else:\n",
    "        print(\"#test3 - fail\")        \n",
    "\n",
    "def invert_array(A, N):\n",
    "    \"\"\" Обращение массива (поворот задом-наперёд)\n",
    "        в рамках индексов от 0 до N-1\n",
    "    \"\"\"\n",
    "    for k in range(N//2):\n",
    "         A[k], A[N-1-k] = A[N-1-k], A[k]\n",
    "    \n",
    "def test_invert_array():\n",
    "    A1 = [1, 2, 3, 4, 5]\n",
    "    print(A1)\n",
    "    invert_array(A1,5)\n",
    "    print(A1)\n",
    "    if A1 == [5, 4, 3, 2, 1]:\n",
    "        print(\"#test1 - ok\")\n",
    "    else:\n",
    "        print(\"#test1 - fail\")\n",
    "    A2 = [0, 0, 0, 0, 0, 0, 0 ,10]\n",
    "    invert_array(A2,8)\n",
    "    if A2 == [10, 0, 0, 0, 0, 0, 0, 0]:\n",
    "        print(\"#test2 - ok\")\n",
    "    else:\n",
    "        print(\"#test2 - fail\")\n",
    "def loop_skip_left():\n",
    "    N = 5\n",
    "    A = [0, 1, 2, 3, 4]\n",
    "    tmp = A[0]\n",
    "    for k in range(N-1):\n",
    "        A[k] = A[k+1]\n",
    "    A[N-1] = tmp    \n",
    "    print(A)\n",
    "def loop_skip_right():\n",
    "    N = 5\n",
    "    A = [0, 1, 2, 3, 4]\n",
    "    tmp = A[N-1]\n",
    "    for k in range(N-2,-1,-1):\n",
    "        A[k+1] = A[k] \n",
    "    A[0] = tmp    \n",
    "    print(A)\n",
    "def Eratoshen():\n",
    "    N = 10\n",
    "    A = [True] * N\n",
    "    A[0] = A[1] = False\n",
    "    for k in range(2,N):\n",
    "        if A[k]:\n",
    "            for m in range(2*k,N,k):\n",
    "                A[m] = False\n",
    "    for k in range(N):\n",
    "        print(k,\"-\",\"простое\" if A[k] else \"составное\")\n",
    "Eratoshen()"
   ]
  }
 ],
 "metadata": {
  "kernelspec": {
   "display_name": "Python 3",
   "language": "python",
   "name": "python3"
  },
  "language_info": {
   "codemirror_mode": {
    "name": "ipython",
    "version": 3
   },
   "file_extension": ".py",
   "mimetype": "text/x-python",
   "name": "python",
   "nbconvert_exporter": "python",
   "pygments_lexer": "ipython3",
   "version": "3.11.6"
  },
  "orig_nbformat": 4
 },
 "nbformat": 4,
 "nbformat_minor": 2
}
