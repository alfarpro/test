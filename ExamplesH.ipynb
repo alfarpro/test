{
 "cells": [
  {
   "cell_type": "code",
   "execution_count": 7,
   "metadata": {},
   "outputs": [
    {
     "name": "stdout",
     "output_type": "stream",
     "text": [
      "True\n"
     ]
    }
   ],
   "source": [
    "def is_simpe_number(x):\n",
    "    \"\"\" Определяе, является ли число простым\n",
    "    x - целое положительное число\n",
    "    Если простое, то возращает True,\n",
    "    а иначе - False\n",
    "    \"\"\"\n",
    "    divisor = 2\n",
    "    while divisor < x:\n",
    "        if x%divisor == 0:\n",
    "            return False\n",
    "        divisor +=1\n",
    "    return True\n",
    "print(is_simpe_number(7))"
   ]
  }
 ],
 "metadata": {
  "kernelspec": {
   "display_name": "Python 3",
   "language": "python",
   "name": "python3"
  },
  "language_info": {
   "codemirror_mode": {
    "name": "ipython",
    "version": 3
   },
   "file_extension": ".py",
   "mimetype": "text/x-python",
   "name": "python",
   "nbconvert_exporter": "python",
   "pygments_lexer": "ipython3",
   "version": "3.11.5"
  },
  "orig_nbformat": 4
 },
 "nbformat": 4,
 "nbformat_minor": 2
}
